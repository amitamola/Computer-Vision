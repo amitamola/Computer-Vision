{
 "cells": [
  {
   "cell_type": "code",
   "execution_count": 1,
   "metadata": {},
   "outputs": [],
   "source": [
    "import cv2\n",
    "import numpy as np"
   ]
  },
  {
   "cell_type": "code",
   "execution_count": 119,
   "metadata": {},
   "outputs": [],
   "source": [
    "#loading an image to python\n",
    "# Replace with the full path of your image\n",
    "im= cv2.imread('Image_1.jpg')"
   ]
  },
  {
   "cell_type": "code",
   "execution_count": 73,
   "metadata": {},
   "outputs": [],
   "source": [
    "im2= cv2.imread('imagetowork2.jpg')"
   ]
  },
  {
   "cell_type": "code",
   "execution_count": 3,
   "metadata": {},
   "outputs": [],
   "source": [
    "#loading an image from a url\n",
    "import urllib\n",
    "url = 'https://upload.wikimedia.org/wikipedia/en/thumb/7/7d/Lenna_%28test_image%29.png/220px-Lenna_%28test_image%29.png'\n",
    "resp = urllib.request.urlopen(url)"
   ]
  },
  {
   "cell_type": "code",
   "execution_count": 4,
   "metadata": {},
   "outputs": [
    {
     "data": {
      "text/plain": [
       "<http.client.HTTPResponse at 0x24e050ebbe0>"
      ]
     },
     "execution_count": 4,
     "metadata": {},
     "output_type": "execute_result"
    }
   ],
   "source": [
    "resp"
   ]
  },
  {
   "cell_type": "code",
   "execution_count": 5,
   "metadata": {},
   "outputs": [],
   "source": [
    "im = np.asarray(bytearray(resp.read()), dtype=\"uint8\")\n",
    "im = cv2.imdecode(im, cv2.IMREAD_COLOR)"
   ]
  },
  {
   "cell_type": "code",
   "execution_count": 84,
   "metadata": {},
   "outputs": [
    {
     "data": {
      "text/plain": [
       "array([[[233, 145, 109],\n",
       "        [234, 146, 110],\n",
       "        [235, 147, 111],\n",
       "        ...,\n",
       "        [233, 165, 136],\n",
       "        [233, 164, 137],\n",
       "        [234, 165, 138]],\n",
       "\n",
       "       [[234, 146, 110],\n",
       "        [235, 147, 111],\n",
       "        [236, 148, 112],\n",
       "        ...,\n",
       "        [234, 166, 137],\n",
       "        [235, 166, 139],\n",
       "        [236, 167, 140]],\n",
       "\n",
       "       [[236, 146, 112],\n",
       "        [237, 147, 113],\n",
       "        [239, 149, 115],\n",
       "        ...,\n",
       "        [236, 167, 140],\n",
       "        [235, 168, 141],\n",
       "        [236, 169, 142]],\n",
       "\n",
       "       ...,\n",
       "\n",
       "       [[240, 191, 177],\n",
       "        [240, 191, 177],\n",
       "        [240, 191, 177],\n",
       "        ...,\n",
       "        [197, 146, 130],\n",
       "        [238, 186, 170],\n",
       "        [236, 181, 166]],\n",
       "\n",
       "       [[240, 191, 177],\n",
       "        [240, 191, 177],\n",
       "        [240, 191, 177],\n",
       "        ...,\n",
       "        [193, 141, 129],\n",
       "        [236, 182, 171],\n",
       "        [239, 183, 172]],\n",
       "\n",
       "       [[237, 188, 174],\n",
       "        [237, 188, 174],\n",
       "        [237, 188, 174],\n",
       "        ...,\n",
       "        [232, 179, 169],\n",
       "        [245, 190, 181],\n",
       "        [236, 179, 170]]], dtype=uint8)"
      ]
     },
     "execution_count": 84,
     "metadata": {},
     "output_type": "execute_result"
    }
   ],
   "source": [
    "im"
   ]
  },
  {
   "cell_type": "code",
   "execution_count": 21,
   "metadata": {},
   "outputs": [],
   "source": [
    "#display the image\n",
    "cv2.imshow('from_url',image)\n",
    "cv2.waitKey(0)\n",
    "cv2.destroyAllWindows()"
   ]
  },
  {
   "cell_type": "code",
   "execution_count": 95,
   "metadata": {},
   "outputs": [],
   "source": [
    "#display the image\n",
    "cv2.imshow('from_system',im)\n",
    "cv2.waitKey(0)\n",
    "cv2.destroyAllWindows()"
   ]
  },
  {
   "cell_type": "code",
   "execution_count": 8,
   "metadata": {},
   "outputs": [
    {
     "data": {
      "text/plain": [
       "numpy.ndarray"
      ]
     },
     "execution_count": 8,
     "metadata": {},
     "output_type": "execute_result"
    }
   ],
   "source": [
    "type(im)"
   ]
  },
  {
   "cell_type": "code",
   "execution_count": 9,
   "metadata": {},
   "outputs": [
    {
     "data": {
      "text/plain": [
       "array([127, 137, 225], dtype=uint8)"
      ]
     },
     "execution_count": 9,
     "metadata": {},
     "output_type": "execute_result"
    }
   ],
   "source": [
    "#get the b,g,r values of 0th pixel\n",
    "im[0][0]"
   ]
  },
  {
   "cell_type": "code",
   "execution_count": 10,
   "metadata": {},
   "outputs": [
    {
     "data": {
      "text/plain": [
       "(220, 220, 3)"
      ]
     },
     "execution_count": 10,
     "metadata": {},
     "output_type": "execute_result"
    }
   ],
   "source": [
    "im.shape"
   ]
  },
  {
   "cell_type": "code",
   "execution_count": 110,
   "metadata": {},
   "outputs": [],
   "source": [
    "blue=im.copy()"
   ]
  },
  {
   "cell_type": "code",
   "execution_count": 111,
   "metadata": {},
   "outputs": [],
   "source": [
    "blue[:,:,1:3]=0"
   ]
  },
  {
   "cell_type": "code",
   "execution_count": 113,
   "metadata": {},
   "outputs": [],
   "source": [
    "#cv2.namedWindow(\"red_image\",cv2.WINDOW_NORMAL)\n",
    "#cv2.resizeWindow(\"red_image\",1920,1200)\n",
    "cv2.imshow('red_image',blue)\n",
    "cv2.waitKey(0)\n",
    "cv2.destroyAllWindows()"
   ]
  },
  {
   "cell_type": "code",
   "execution_count": 8,
   "metadata": {},
   "outputs": [
    {
     "data": {
      "text/plain": [
       "(847, 837, 3)"
      ]
     },
     "execution_count": 8,
     "metadata": {},
     "output_type": "execute_result"
    }
   ],
   "source": [
    "#an image has 3 channels Blue, Green, Red\n",
    "im.shape"
   ]
  },
  {
   "cell_type": "code",
   "execution_count": 114,
   "metadata": {},
   "outputs": [
    {
     "ename": "AttributeError",
     "evalue": "'int' object has no attribute 'shape'",
     "output_type": "error",
     "traceback": [
      "\u001b[1;31m---------------------------------------------------------------------------\u001b[0m",
      "\u001b[1;31mAttributeError\u001b[0m                            Traceback (most recent call last)",
      "\u001b[1;32m<ipython-input-114-163a73c78080>\u001b[0m in \u001b[0;36m<module>\u001b[1;34m\u001b[0m\n\u001b[0;32m      1\u001b[0m \u001b[0mred\u001b[0m \u001b[1;33m=\u001b[0m \u001b[0mim\u001b[0m\u001b[1;33m[\u001b[0m\u001b[1;33m:\u001b[0m\u001b[1;33m,\u001b[0m\u001b[1;33m:\u001b[0m\u001b[1;33m,\u001b[0m\u001b[1;36m0\u001b[0m\u001b[1;33m:\u001b[0m\u001b[1;36m2\u001b[0m\u001b[1;33m]\u001b[0m\u001b[1;33m=\u001b[0m\u001b[1;36m0\u001b[0m\u001b[1;33m\u001b[0m\u001b[1;33m\u001b[0m\u001b[0m\n\u001b[1;32m----> 2\u001b[1;33m \u001b[0mred\u001b[0m\u001b[1;33m.\u001b[0m\u001b[0mshape\u001b[0m\u001b[1;33m\u001b[0m\u001b[1;33m\u001b[0m\u001b[0m\n\u001b[0m",
      "\u001b[1;31mAttributeError\u001b[0m: 'int' object has no attribute 'shape'"
     ]
    }
   ],
   "source": [
    "red = im[:,:,0:2]=0\n",
    "red.shape"
   ]
  },
  {
   "cell_type": "code",
   "execution_count": 10,
   "metadata": {},
   "outputs": [
    {
     "data": {
      "text/plain": [
       "array([[255, 255, 255, ..., 255, 255, 255],\n",
       "       [255, 255, 255, ..., 255, 255, 255],\n",
       "       [255, 255, 255, ..., 255, 255, 255],\n",
       "       ...,\n",
       "       [255, 255, 255, ..., 255, 255, 255],\n",
       "       [255, 255, 255, ..., 255, 255, 255],\n",
       "       [255, 255, 255, ..., 255, 255, 255]], dtype=uint8)"
      ]
     },
     "execution_count": 10,
     "metadata": {},
     "output_type": "execute_result"
    }
   ],
   "source": [
    "#To access blue colour\n",
    "im[:,:,0]"
   ]
  },
  {
   "cell_type": "code",
   "execution_count": 38,
   "metadata": {},
   "outputs": [
    {
     "data": {
      "text/plain": [
       "48400"
      ]
     },
     "execution_count": 38,
     "metadata": {},
     "output_type": "execute_result"
    }
   ],
   "source": [
    "#splitting blue, green and red channels\n",
    "b,g,r=cv2.split(im)\n",
    "b.size"
   ]
  },
  {
   "cell_type": "code",
   "execution_count": 16,
   "metadata": {},
   "outputs": [],
   "source": [
    "#create a 4X4 color image\n",
    "rgb = np.random.randint(0,255, size=(4,4,3),dtype=np.uint8)\n",
    "#display the image\n",
    "cv2.imshow('random_image',rgb)\n",
    "cv2.waitKey(0)\n",
    "cv2.destroyAllWindows()"
   ]
  },
  {
   "cell_type": "code",
   "execution_count": 28,
   "metadata": {},
   "outputs": [
    {
     "data": {
      "text/plain": [
       "array([[[172,  58, 241],\n",
       "        [205, 230,  47],\n",
       "        [  8,  46,  13],\n",
       "        [133,  51, 219]],\n",
       "\n",
       "       [[239, 186, 190],\n",
       "        [ 76,  98,   3],\n",
       "        [ 32,  67,  27],\n",
       "        [234, 188, 125]],\n",
       "\n",
       "       [[ 71,  57, 119],\n",
       "        [ 18,  63,  30],\n",
       "        [ 35, 239, 110],\n",
       "        [ 80, 184,  55]],\n",
       "\n",
       "       [[ 31, 171,  78],\n",
       "        [ 78, 180, 228],\n",
       "        [166,  18, 200],\n",
       "        [ 84,  52, 233]]], dtype=uint8)"
      ]
     },
     "execution_count": 28,
     "metadata": {},
     "output_type": "execute_result"
    }
   ],
   "source": [
    "rgb"
   ]
  },
  {
   "cell_type": "markdown",
   "metadata": {},
   "source": [
    "### Grayscale\n",
    "\n",
    "Grayscale only contains luminance (brightness) information and no color information; that is why maximum luminance is white and zero luminance is black; everything in between is a shade of gray."
   ]
  },
  {
   "cell_type": "code",
   "execution_count": 17,
   "metadata": {},
   "outputs": [],
   "source": [
    "#create a 4X4 grayscale image\n",
    "gr = np.random.randint(255, size=(4,4),dtype=np.uint8)\n",
    "#display the image\n",
    "cv2.imshow('random_grayscale_image',gr)\n",
    "cv2.waitKey(0)\n",
    "cv2.destroyAllWindows()"
   ]
  },
  {
   "cell_type": "code",
   "execution_count": null,
   "metadata": {},
   "outputs": [],
   "source": []
  },
  {
   "cell_type": "code",
   "execution_count": 18,
   "metadata": {},
   "outputs": [],
   "source": [
    "#converting image from color to grayscale\n",
    "gray = cv2.cvtColor(im, cv2.COLOR_BGR2GRAY)"
   ]
  },
  {
   "cell_type": "code",
   "execution_count": 19,
   "metadata": {},
   "outputs": [],
   "source": [
    "#display the gray image\n",
    "cv2.imshow('image',gray)\n",
    "cv2.waitKey(0)\n",
    "cv2.destroyAllWindows()"
   ]
  },
  {
   "cell_type": "code",
   "execution_count": 20,
   "metadata": {},
   "outputs": [
    {
     "data": {
      "text/plain": [
       "(847, 837)"
      ]
     },
     "execution_count": 20,
     "metadata": {},
     "output_type": "execute_result"
    }
   ],
   "source": [
    "gray.shape"
   ]
  },
  {
   "cell_type": "code",
   "execution_count": 21,
   "metadata": {},
   "outputs": [
    {
     "name": "stdout",
     "output_type": "stream",
     "text": [
      "709051 2126945\n"
     ]
    }
   ],
   "source": [
    "import sys\n",
    "print(sys.getsizeof(gray),sys.getsizeof(im))"
   ]
  },
  {
   "cell_type": "markdown",
   "metadata": {},
   "source": [
    "### 3 types of grayscale conversion\n",
    "1. Luminosity\n",
    "2. Lightness\n",
    "3. Average\n",
    "\n",
    "### https://www.johndcook.com/blog/2009/08/24/algorithms-convert-color-grayscale/\n",
    "\n"
   ]
  },
  {
   "cell_type": "markdown",
   "metadata": {},
   "source": [
    "### Extract object of a specific color using HSV"
   ]
  },
  {
   "cell_type": "code",
   "execution_count": 121,
   "metadata": {},
   "outputs": [],
   "source": [
    "#HSV color format for detecting objects with specific color irrespective of lighting condition\n",
    "\n",
    "#track blue object\n",
    "\n",
    "#image=cv2.imread('colour-wheel.jpg')\n",
    "hsv = cv2.cvtColor(im, cv2.COLOR_BGR2HSV)"
   ]
  },
  {
   "cell_type": "code",
   "execution_count": 186,
   "metadata": {},
   "outputs": [],
   "source": [
    "cv2.imshow('hsv',hsv)\n",
    "#press any key to quit\n",
    "cv2.waitKey(0)\n",
    "cv2.destroyAllWindows()"
   ]
  },
  {
   "cell_type": "code",
   "execution_count": 124,
   "metadata": {},
   "outputs": [],
   "source": [
    "res = cv2.bitwise_and(im,im)\n",
    "#cv2.imshow('Original_Image',im)\n",
    "#cv2.imshow('mask',mask)\n",
    "cv2.imshow('res',res)\n",
    "#press any key to quit\n",
    "cv2.waitKey(0)\n",
    "cv2.destroyAllWindows()"
   ]
  },
  {
   "cell_type": "code",
   "execution_count": 191,
   "metadata": {},
   "outputs": [],
   "source": [
    "# define range of blue color in HSV\n",
    "lower_blue = np.array([255,225,0])\n",
    "upper_blue = np.array([255,255,255])\n",
    "\n",
    "# Threshold the HSV image to get only blue colors\n",
    "mask = cv2.inRange(hsv, lower_blue, upper_blue)\n",
    "\n",
    "# Bitwise-AND mask and original image\n",
    "res = cv2.bitwise_and(im,im,mask=mask)\n",
    "#cv2.imshow('Original_Image',im)\n",
    "#cv2.imshow('mask',mask)\n",
    "cv2.imshow('res',res)\n",
    "#press any key to quit\n",
    "cv2.waitKey(0)\n",
    "cv2.destroyAllWindows()"
   ]
  },
  {
   "cell_type": "code",
   "execution_count": 128,
   "metadata": {},
   "outputs": [
    {
     "data": {
      "text/plain": [
       "array([[[120, 255, 255]]], dtype=uint8)"
      ]
     },
     "execution_count": 128,
     "metadata": {},
     "output_type": "execute_result"
    }
   ],
   "source": [
    "hsv_blue = cv2.cvtColor(blue,cv2.COLOR_BGR2HSV)\n",
    "hsv_blue"
   ]
  },
  {
   "cell_type": "code",
   "execution_count": 189,
   "metadata": {},
   "outputs": [
    {
     "data": {
      "text/plain": [
       "array([[[ 13,  61, 100]]], dtype=uint8)"
      ]
     },
     "execution_count": 189,
     "metadata": {},
     "output_type": "execute_result"
    }
   ],
   "source": [
    "green = np.uint8([[[332,86,100]]])\n",
    "hsv_green = cv2.cvtColor(green,cv2.COLOR_BGR2HSV)\n",
    "hsv_green"
   ]
  },
  {
   "cell_type": "code",
   "execution_count": 156,
   "metadata": {},
   "outputs": [
    {
     "data": {
      "text/plain": [
       "array([[[  0, 255, 255]]], dtype=uint8)"
      ]
     },
     "execution_count": 156,
     "metadata": {},
     "output_type": "execute_result"
    }
   ],
   "source": [
    "red=np.uint8([[[0,0,255]]])\n",
    "hsv_red = cv2.cvtColor(red,cv2.COLOR_BGR2HSV)\n",
    "hsv_red"
   ]
  },
  {
   "cell_type": "code",
   "execution_count": 18,
   "metadata": {},
   "outputs": [
    {
     "name": "stdout",
     "output_type": "stream",
     "text": [
      "[[[120 255 255]]]\n"
     ]
    },
    {
     "data": {
      "text/plain": [
       "120"
      ]
     },
     "execution_count": 18,
     "metadata": {},
     "output_type": "execute_result"
    }
   ],
   "source": [
    "#get the range of colors in hsv\n",
    "blue=np.uint8([[[255,0,0]]])\n",
    "hsv_blue = cv2.cvtColor(blue,cv2.COLOR_BGR2HSV)\n",
    "\n",
    "green = np.uint8([[[0,255,0 ]]])\n",
    "hsv_green = cv2.cvtColor(green,cv2.COLOR_BGR2HSV)\n",
    "\n",
    "red=np.uint8([[[0,0,255]]])\n",
    "hsv_red = cv2.cvtColor(red,cv2.COLOR_BGR2HSV)\n",
    "print (hsv_blue)\n",
    "np.squeeze(hsv_blue)[0]"
   ]
  },
  {
   "cell_type": "code",
   "execution_count": 177,
   "metadata": {},
   "outputs": [
    {
     "name": "stdout",
     "output_type": "stream",
     "text": [
      "[110  50  50] [130 255 255]\n"
     ]
    }
   ],
   "source": [
    "#once you have the exact value of the specific colors, add a threshold of +/-10 to get the lower and upper range\n",
    "lower_green=np.array([np.squeeze(hsv_green)[0]-10,50,50])\n",
    "upper_green=np.array([np.squeeze(hsv_green)[0]+10,255,255])\n",
    "\n",
    "lower_blue = np.array([np.squeeze(hsv_blue)[0]-10,50,50])\n",
    "upper_blue = np.array([np.squeeze(hsv_blue)[0]+10,255,255])\n",
    "\n",
    "lower_red = np.array([np.squeeze(hsv_red)[0]-10,50,50])\n",
    "upper_red = np.array([np.squeeze(hsv_red)[0]+10,255,255])\n",
    "\n",
    "print(lower_blue,upper_blue)"
   ]
  },
  {
   "cell_type": "markdown",
   "metadata": {},
   "source": [
    "### Reading multiple images using OS library"
   ]
  },
  {
   "cell_type": "code",
   "execution_count": 182,
   "metadata": {},
   "outputs": [],
   "source": [
    "import os"
   ]
  },
  {
   "cell_type": "code",
   "execution_count": 183,
   "metadata": {},
   "outputs": [
    {
     "data": {
      "text/plain": [
       "'C:\\\\Users\\\\amit.amola\\\\Python Stuff\\\\Computer Vision'"
      ]
     },
     "execution_count": 183,
     "metadata": {},
     "output_type": "execute_result"
    }
   ],
   "source": [
    "#know your current directory\n",
    "os.getcwd()"
   ]
  },
  {
   "cell_type": "code",
   "execution_count": 184,
   "metadata": {},
   "outputs": [
    {
     "data": {
      "text/plain": [
       "['.ipynb_checkpoints',\n",
       " 'Computer Vision S1.ipynb',\n",
       " 'CV basics.ipynb',\n",
       " 'imagetowork.jpg',\n",
       " 'imagetowork2.jpg',\n",
       " 'Image_1.jpg',\n",
       " 'Week 1 Assignment']"
      ]
     },
     "execution_count": 184,
     "metadata": {},
     "output_type": "execute_result"
    }
   ],
   "source": [
    "#list the contents of a directory\n",
    "#current directory\n",
    "lis=os.listdir()\n",
    "lis"
   ]
  },
  {
   "cell_type": "code",
   "execution_count": 29,
   "metadata": {},
   "outputs": [
    {
     "data": {
      "text/plain": [
       "['image4.jpg',\n",
       " 'example.jpg',\n",
       " 'image2.jpg',\n",
       " 'image1.jpg',\n",
       " '.ipynb_checkpoints',\n",
       " 'image5.jpg',\n",
       " 'image6.jpg',\n",
       " 'image3.jpg',\n",
       " 'book detection.ipynb']"
      ]
     },
     "execution_count": 29,
     "metadata": {},
     "output_type": "execute_result"
    }
   ],
   "source": [
    "#Of a specific folder\n",
    "path='/home/sreekiran/Projects/Computer_vision/test books/'\n",
    "lis2=os.listdir(path)\n",
    "lis2"
   ]
  },
  {
   "cell_type": "code",
   "execution_count": 30,
   "metadata": {},
   "outputs": [
    {
     "data": {
      "text/plain": [
       "['Global Thresholding.jpg',\n",
       " 'Adaptive Thresholding Mean.jpg',\n",
       " 'test.jpg',\n",
       " 'colour-wheel.jpg',\n",
       " 'image2.jpg',\n",
       " 'Adaptive Thresholding Gaussian.jpg',\n",
       " 'stars1.jpg',\n",
       " 'stars2.jpg',\n",
       " 'particles.jpg']"
      ]
     },
     "execution_count": 30,
     "metadata": {},
     "output_type": "execute_result"
    }
   ],
   "source": [
    "#get only images\n",
    "#images can also be of .jpeg, .png, .tiff etc. formats. .jpg is most commonly used format\n",
    "lis_img=list(filter(lambda x:x.endswith('.jpg'),lis))\n",
    "lis_img"
   ]
  },
  {
   "cell_type": "code",
   "execution_count": 31,
   "metadata": {},
   "outputs": [
    {
     "data": {
      "text/plain": [
       "9"
      ]
     },
     "execution_count": 31,
     "metadata": {},
     "output_type": "execute_result"
    }
   ],
   "source": [
    "#reading all the images from a folder\n",
    "images=[]\n",
    "for f in lis_img:\n",
    "    #read image\n",
    "    img=cv2.imread(f)\n",
    "    images.append(img)\n",
    "\n",
    "len(images)"
   ]
  },
  {
   "cell_type": "code",
   "execution_count": 32,
   "metadata": {},
   "outputs": [],
   "source": [
    "#to see all the images one by one\n",
    "for im in images:\n",
    "    cv2.imshow('image',im)\n",
    "    #press any key to close the current image and go to next image\n",
    "    cv2.waitKey(0)\n",
    "    cv2.destroyAllWindows()"
   ]
  },
  {
   "cell_type": "markdown",
   "metadata": {},
   "source": []
  }
 ],
 "metadata": {
  "kernelspec": {
   "display_name": "Python 3",
   "language": "python",
   "name": "python3"
  },
  "language_info": {
   "codemirror_mode": {
    "name": "ipython",
    "version": 3
   },
   "file_extension": ".py",
   "mimetype": "text/x-python",
   "name": "python",
   "nbconvert_exporter": "python",
   "pygments_lexer": "ipython3",
   "version": "3.7.1"
  }
 },
 "nbformat": 4,
 "nbformat_minor": 2
}
